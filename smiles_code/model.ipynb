{
 "cells": [
  {
   "cell_type": "code",
   "execution_count": null,
   "metadata": {},
   "outputs": [],
   "source": [
    "import pandas as pd\n",
    "from SmilesPE.pretokenizer import atomwise_tokenizer\n",
    "from hdlib.space import Vector, Space\n",
    "from hdlib.arithmetic import bundle, bind\n",
    "import random\n",
    "from sklearn.model_selection import KFold\n",
    "from sklearn import metrics"
   ]
  },
  {
   "cell_type": "code",
   "execution_count": null,
   "metadata": {},
   "outputs": [],
   "source": [
    "memory = Space() # ITEM MEMORY"
   ]
  },
  {
   "cell_type": "code",
   "execution_count": null,
   "metadata": {},
   "outputs": [],
   "source": [
    "df = pd.read_csv(\"smiles_code/tox21.csv\")\n",
    "df = df.dropna(subset=[\"NR-ER-LBD\"]).reset_index(drop=True)"
   ]
  },
  {
   "cell_type": "code",
   "execution_count": null,
   "metadata": {},
   "outputs": [],
   "source": [
    "all_entries = list()\n",
    "to_insert = list()"
   ]
  },
  {
   "cell_type": "code",
   "execution_count": null,
   "metadata": {},
   "outputs": [],
   "source": [
    "for i, row in df.iterrows():\n",
    "    val = row['NR-ER-LBD']\n",
    "    smiles = row['smiles']\n",
    "    all_entries.append((val, smiles))\n",
    "    tokens = atomwise_tokenizer(smiles)\n",
    "    to_insert.extend(tokens)"
   ]
  },
  {
   "cell_type": "code",
   "execution_count": null,
   "metadata": {},
   "outputs": [],
   "source": [
    "memory.bulk_insert(to_insert)"
   ]
  },
  {
   "cell_type": "code",
   "execution_count": null,
   "metadata": {},
   "outputs": [],
   "source": [
    "random.shuffle(all_entries)\n",
    "split_index = int(0.8 * len(all_entries))\n",
    "sample_80 = all_entries[:split_index]\n",
    "sample_20 = all_entries[split_index:]"
   ]
  },
  {
   "cell_type": "code",
   "execution_count": null,
   "metadata": {},
   "outputs": [],
   "source": [
    "zero_vecs = [all_entries[i][1] for i in range(0, len(sample_80)) if all_entries[i][0] == 0]\n",
    "one_vecs = [all_entries[i][1] for i in range(0, len(sample_80)) if all_entries[i][0] == 1]"
   ]
  },
  {
   "cell_type": "code",
   "execution_count": null,
   "metadata": {},
   "outputs": [],
   "source": [
    "def encode_sample(sample, shared_space):\n",
    "    str_vec = dict()\n",
    "    for hd_vec in sample:\n",
    "        cur_tokens = atomwise_tokenizer(hd_vec)\n",
    "        if len(cur_tokens) == 1:\n",
    "            return shared_space.get(names=[cur_tokens[0]])[0]\n",
    "        token_vec0 = shared_space.get(names=[cur_tokens[0]])[0]\n",
    "        token_vec1 = shared_space.get(names=[cur_tokens[1]])[0]\n",
    "        token_vec0.permute(rotate_by=0)\n",
    "        token_vec1.permute(rotate_by=1)\n",
    "        culmination = bind(token_vec0, token_vec1)\n",
    "        for i in range(2, len(cur_tokens)):\n",
    "            current_vec = shared_space.get(names=[cur_tokens[i]])[0]\n",
    "            current_vec.permute(rotate_by=i)\n",
    "            culmination = bind(culmination, current_vec)\n",
    "        \n",
    "        str_vec[hd_vec] = culmination\n",
    "    mol_vecs = list(str_vec.values())\n",
    "    class_vec = bind(mol_vecs[0], mol_vecs[1])\n",
    "    for i in range(2, len(mol_vecs)):\n",
    "        current_vec = mol_vecs[i]\n",
    "        class_vec = bind(class_vec, current_vec)\n",
    "    return class_vec\n",
    "    "
   ]
  },
  {
   "cell_type": "code",
   "execution_count": null,
   "metadata": {},
   "outputs": [],
   "source": [
    "def encode_smi(smiles, shared_space):\n",
    "    tokens = atomwise_tokenizer(smiles)\n",
    "    \n",
    "    if len(tokens) == 1:\n",
    "        return shared_space.get(names=[tokens[0]])[0]\n",
    "    \n",
    "    vec0 = shared_space.get(names=[tokens[0]])[0]\n",
    "    vec1 = shared_space.get(names=[tokens[1]])[0]\n",
    "    \n",
    "    vec0.permute(rotate_by=0)\n",
    "    vec1.permute(rotate_by=1)\n",
    "    \n",
    "    result = bind(vec0, vec1)\n",
    "    \n",
    "    for i in range(2, len(tokens)):\n",
    "        v = shared_space.get(names=[tokens[i]])[0]\n",
    "        v.permute(rotate_by=i)\n",
    "        result = bind(result, v)\n",
    "    \n",
    "    return result"
   ]
  },
  {
   "cell_type": "code",
   "execution_count": null,
   "metadata": {},
   "outputs": [],
   "source": [
    "K = 5"
   ]
  },
  {
   "cell_type": "code",
   "execution_count": null,
   "metadata": {},
   "outputs": [],
   "source": [
    "kf = KFold(n_splits=K, shuffle=True, random_state=40)"
   ]
  },
  {
   "cell_type": "code",
   "execution_count": null,
   "metadata": {},
   "outputs": [],
   "source": [
    "for fold_idx, (training_indices, testing_indices) in enumerate(kf.split(all_entries)):\n",
    "    real_all, pred_all = [], []\n",
    "    train_data = [all_entries[i] for i in training_indices]\n",
    "    test_data = [all_entries[i] for i in testing_indices]\n",
    "    zero_vecs = [smi for lbl, smi in train_data if lbl == 0]\n",
    "    one_vecs = [smi for lbl, smi in train_data if lbl == 1]\n",
    "    zero_cv = encode_sample(zero_vecs, memory)\n",
    "    one_cv = encode_sample(one_vecs, memory)\n",
    "    for lbl, smiles in test_data:\n",
    "        vec_rep = encode_smi(smiles, memory)\n",
    "        dist0 = vec_rep.dist(zero_cv, method=\"cosine\")\n",
    "        dist1 = vec_rep.dist(one_cv, method=\"cosine\")\n",
    "        pred = 0 if dist0 < dist1 else 1\n",
    "        real_all.append(lbl)\n",
    "        pred_all.append(pred)\n",
    "    print(f\"\\t\\tIteration {fold_idx + 1}\")\n",
    "    labels = [0, 1]\n",
    "    cm = metrics.confusion_matrix(real_all, pred_all, labels=labels)\n",
    "    df_cm = pd.DataFrame(cm, index=[f\"True {l}\" for l in labels],\n",
    "                            columns=[f\"Pred {l}\" for l in labels])\n",
    "    print(\"Confusion Matrix (cross-validated):\")\n",
    "    print(df_cm)\n",
    "    print(\"\\nClassification Report:\")\n",
    "    print(metrics.classification_report(real_all, pred_all, labels=labels, digits=4))"
   ]
  }
 ],
 "metadata": {
  "kernelspec": {
   "display_name": "Python 3",
   "language": "python",
   "name": "python3"
  },
  "language_info": {
   "codemirror_mode": {
    "name": "ipython",
    "version": 3
   },
   "file_extension": ".py",
   "mimetype": "text/x-python",
   "name": "python",
   "nbconvert_exporter": "python",
   "pygments_lexer": "ipython3",
   "version": "3.6.4"
  }
 },
 "nbformat": 4,
 "nbformat_minor": 2
}
